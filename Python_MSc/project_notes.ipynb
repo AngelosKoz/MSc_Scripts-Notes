{
 "cells": [
  {
   "cell_type": "markdown",
   "id": "5d2e6b63",
   "metadata": {},
   "source": [
    "# Project 1\n",
    "* Avoid using regular expressions with dictionaries. You should use regexp when your data are strings, not dicitonarie, lists, ..\n",
    "\n",
    "9/10\n"
   ]
  },
  {
   "cell_type": "code",
   "execution_count": 4,
   "id": "5000b785",
   "metadata": {},
   "outputs": [
    {
     "data": {
      "text/html": [
       "<div>\n",
       "<style scoped>\n",
       "    .dataframe tbody tr th:only-of-type {\n",
       "        vertical-align: middle;\n",
       "    }\n",
       "\n",
       "    .dataframe tbody tr th {\n",
       "        vertical-align: top;\n",
       "    }\n",
       "\n",
       "    .dataframe thead th {\n",
       "        text-align: right;\n",
       "    }\n",
       "</style>\n",
       "<table border=\"1\" class=\"dataframe\">\n",
       "  <thead>\n",
       "    <tr style=\"text-align: right;\">\n",
       "      <th></th>\n",
       "      <th>Diagnosis</th>\n",
       "      <th>Average_age_at_diagnosis</th>\n",
       "    </tr>\n",
       "  </thead>\n",
       "  <tbody>\n",
       "    <tr>\n",
       "      <th>0</th>\n",
       "      <td>Infiltrating duct carcinoma, NOS</td>\n",
       "      <td>58.094956</td>\n",
       "    </tr>\n",
       "    <tr>\n",
       "      <th>1</th>\n",
       "      <td>Infiltrating duct and lobular carcinoma</td>\n",
       "      <td>58.718591</td>\n",
       "    </tr>\n",
       "    <tr>\n",
       "      <th>2</th>\n",
       "      <td>Infiltrating duct mixed with other types of ca...</td>\n",
       "      <td>60.096467</td>\n",
       "    </tr>\n",
       "    <tr>\n",
       "      <th>3</th>\n",
       "      <td>Metaplastic carcinoma, NOS</td>\n",
       "      <td>61.044814</td>\n",
       "    </tr>\n",
       "    <tr>\n",
       "      <th>4</th>\n",
       "      <td>Lobular carcinoma, NOS</td>\n",
       "      <td>62.125805</td>\n",
       "    </tr>\n",
       "    <tr>\n",
       "      <th>5</th>\n",
       "      <td>Mucinous adenocarcinoma</td>\n",
       "      <td>69.125662</td>\n",
       "    </tr>\n",
       "  </tbody>\n",
       "</table>\n",
       "</div>"
      ],
      "text/plain": [
       "                                           Diagnosis  Average_age_at_diagnosis\n",
       "0                   Infiltrating duct carcinoma, NOS                 58.094956\n",
       "1            Infiltrating duct and lobular carcinoma                 58.718591\n",
       "2  Infiltrating duct mixed with other types of ca...                 60.096467\n",
       "3                         Metaplastic carcinoma, NOS                 61.044814\n",
       "4                             Lobular carcinoma, NOS                 62.125805\n",
       "5                            Mucinous adenocarcinoma                 69.125662"
      ]
     },
     "execution_count": 4,
     "metadata": {},
     "output_type": "execute_result"
    }
   ],
   "source": [
    "# %%  ################--------- Project 1 ---------##################\n",
    "import pandas as pd\n",
    "import json, re, time #I think the file has changed since the project was uploaded. I get slightly different age values\n",
    "#pat_file = 'clinical.project-TCGA-BRCA.2023-03-08.json' #This means the file is in the current directory (working with vscode) else i would repalce with ~/Desktop/Master/Python/scripts/blahblah.json\n",
    "\n",
    "pat_file = '../clinical.project-TCGA-BRCA.2023-01-10.json'\n",
    "\n",
    "def proj_1():\n",
    "    primary_diagnosis = re.compile(r\"'primary_diagnosis': '[A-Za-z\\, ]*\")\n",
    "    age_of_diagnosis = re.compile(r\"'age_at_diagnosis': [0-9None]*\") #We add none since it is included in some ages\n",
    "    my_dict = {}\n",
    "    some_values_are_like_this = ' None'\n",
    "    with open(pat_file) as pats:\n",
    "           \n",
    "        patients = json.loads(pats.read())\n",
    "        for i in patients:\n",
    "            try:\n",
    "                i['diagnoses'] #Some of the patients do not have a diagnoses (only case_id) so we complement it with this\n",
    "            except:\n",
    "                continue\n",
    "            result = str(i['diagnoses'])\n",
    "            diag_1 = str(primary_diagnosis.findall(result))\n",
    "            age_1 = str(age_of_diagnosis.findall(result))\n",
    "            diag_2 = re.sub(\"'primary_diagnosis'\", '', diag_1)\n",
    "            diag_3 = re.sub(r\"[\\[\\]\\\"\\:\\']\", '', diag_2)\n",
    "            disease = diag_3.lstrip(diag_3[0])\n",
    "            age_2 = re.sub(\"'age_at_diagnosis'\", '', age_1)\n",
    "            age_3 = re.sub(r\"[\\[\\]\\\"\\:\\']\", '', age_2)\n",
    "            if age_3 == some_values_are_like_this: #I have to add this if since we encounter None\n",
    "                if not disease in my_dict:\n",
    "                    mean_age = 0\n",
    "                    my_dict[disease] = [1, mean_age]\n",
    "                    continue\n",
    "                else:\n",
    "                    continue \n",
    "            age = (int(age_3.lstrip(age_3[0])))/365 # It seems some of the patients do not have an age_at_diagnosis, and is marked as none\n",
    "            if not disease in my_dict:\n",
    "                mean_age = age\n",
    "                my_dict[disease] = [1, mean_age]\n",
    "            else:\n",
    "                mean_age = (my_dict[disease][1] + age)\n",
    "                my_dict[disease][0] += 1\n",
    "                my_dict[disease][1] = mean_age\n",
    "        my_dict = {key:val for key, val in my_dict.items() if val[0] >= 10} #>= or > ? We do this first to have less data to work with when counting mean \n",
    "        for k,v in my_dict.items():\n",
    "            my_dict[k][1] = (my_dict[k][1]) / (my_dict[k][0])\n",
    "        my_dict = dict(sorted(my_dict.items(), key=lambda x:x[1][1]))\n",
    "        my_df = pd.DataFrame(\n",
    "            [(dis, ags[1]) for dis, ags in my_dict.items()],\n",
    "            columns=['Diagnosis', 'Average_age_at_diagnosis']\n",
    "            )\n",
    "        return my_df\n",
    "proj_1()\n",
    "#We have 1097 entries in total, but patient 75 ([74]) does not have diagnosis\n",
    "\n"
   ]
  },
  {
   "cell_type": "markdown",
   "id": "dd11a42a",
   "metadata": {},
   "source": [
    "# My solution for project 1"
   ]
  },
  {
   "cell_type": "code",
   "execution_count": null,
   "id": "0548c6ba",
   "metadata": {},
   "outputs": [],
   "source": [
    "def f_sol():\n",
    "    #fn = '/Users/admin/Downloads/clinical.project-TCGA-BRCA.2022-04-06.json'\n",
    "    fn = '/Users/admin/Downloads/clinical.project-TCGA-BRCA.2023-01-21.json'\n",
    "    with open(fn) as f:\n",
    "        d = json.load(f)\n",
    "\n",
    "    p = []\n",
    "    t = []\n",
    "    dd = defaultdict(list)\n",
    "    for x in d:\n",
    "\n",
    "        if not 'exposures' in x:\n",
    "            continue\n",
    "        exposures = x['exposures']\n",
    "\n",
    "        years_smoked =  exposures[0]['alcohol_history']\n",
    "\n",
    "        if not 'diagnoses' in x:\n",
    "            continue\n",
    "\n",
    "        diagnoses = x['diagnoses']\n",
    "\n",
    "        primary_diagnosis = diagnoses[0]['primary_diagnosis']\n",
    "        p.append(primary_diagnosis)\n",
    "        age_at_diagnosis = diagnoses[0]['age_at_diagnosis']\n",
    "        if age_at_diagnosis is None or age_at_diagnosis == 'Not Reported':\n",
    "            continue\n",
    "\n",
    "        dd[primary_diagnosis].append(age_at_diagnosis/365)\n",
    "\n",
    "        this_treatment = []\n",
    "        for treatment in diagnoses[0]['treatments']:\n",
    "             this_treatment.append(treatment['treatment_type'])\n",
    "            #print (t)\n",
    "        t.append(tuple(this_treatment))\n",
    "        \n",
    "    dd2 = {k: np.average(v) for k,v in dd.items() if len(v)>10}\n",
    "    dd3 = defaultdict(list)\n",
    "\n",
    "    for k,v in sorted(dd2.items(), key=lambda x : x[1]):\n",
    "        dd3['diagnosis'].append(k)\n",
    "        dd3['Average age at diagnosis'].append(v)\n",
    "        \n",
    "    return pd.DataFrame(dd3)\n",
    "\n",
    "f_sol()"
   ]
  },
  {
   "cell_type": "markdown",
   "id": "1ffc5693",
   "metadata": {},
   "source": [
    "# Project 2\n",
    "* `re_pattern = re.compile(\"[A-Za-z\\|\\_0-9]*\\t\")` αυτό πρέπει να το κάνεις μία φορά έξω από το iteration (κοστίζει)\n",
    "* Όταν κάτι κάνει πολύ ώρα (πάνω από 1 λεπτό), καλό είναι να βάλουμε ένα porgress indicator..\n",
    "\n",
    "10/10\n"
   ]
  },
  {
   "cell_type": "code",
   "execution_count": 3,
   "id": "0b3c3ab9",
   "metadata": {},
   "outputs": [
    {
     "name": "stdout",
     "output_type": "stream",
     "text": [
      "-rw-r--r--  1 admin  staff  12458194 Mar  6 12:24 ../mbqc_integrated_otus.tsv.gz\r\n"
     ]
    }
   ],
   "source": [
    "! ls -l ../mbqc_integrated_otus.tsv.gz"
   ]
  },
  {
   "cell_type": "code",
   "execution_count": null,
   "id": "660fcdcf",
   "metadata": {},
   "outputs": [],
   "source": []
  },
  {
   "cell_type": "code",
   "execution_count": 5,
   "id": "fa2e38ea",
   "metadata": {},
   "outputs": [
    {
     "name": "stdout",
     "output_type": "stream",
     "text": [
      "Reading cols..\n",
      "  done reading cols\n"
     ]
    },
    {
     "data": {
      "text/plain": [
       "<seaborn.axisgrid.FacetGrid at 0x7f850438d550>"
      ]
     },
     "execution_count": 5,
     "metadata": {},
     "output_type": "execute_result"
    },
    {
     "data": {
      "image/png": "[encoded data removed]",
      "text/plain": [
       "<Figure size 500x500 with 1 Axes>"
      ]
     },
     "metadata": {},
     "output_type": "display_data"
    }
   ],
   "source": [
    "import pandas as pd\n",
    "import numpy as np\n",
    "import seaborn as sns\n",
    "import math, time, gzip, re\n",
    "\n",
    "print ('Reading cols..')\n",
    "my_list = []\n",
    "h_s = pd.read_csv('../mbqc_integrated_otus.tsv.gz',sep='\\t', header = None, compression='gzip', skiprows=27, nrows=1)\n",
    "healthy_col = list(h_s.columns[h_s.isin(['Healthy']).any()])\n",
    "healthy_amount = len(healthy_col)\n",
    "sick_col = list(h_s.columns[h_s.isin(['Sick']).any()])\n",
    "sick_amount = len(sick_col)\n",
    "print ('  done reading cols')\n",
    "\n",
    "with gzip.open('../mbqc_integrated_otus.tsv.gz', 'rt', encoding='utf-8') as plot_data:\n",
    "    for i in range(72):\n",
    "        plot_data.readline()\n",
    "    for j in range(27211): #for i in range(27211):\n",
    "        re_pattern = re.compile(\"[A-Za-z\\|\\_0-9]*\\t\")\n",
    "        my_line = plot_data.readline()\n",
    "        org_tax = re_pattern.search(my_line) #this will search lazy so it saves us time\n",
    "        start, end = org_tax.span() #we take the end which is the index from where we will start our array\n",
    "        filtered_string = my_line[end:] #Since .fromstring has issues, we remove everything non-numeric and we replace it later with a sumple 0 in order to keep the indexing we saved from the first part\n",
    "        microbe = np.fromstring(filtered_string, sep = '\\t') #reads the string with tab delimiter\n",
    "        microbe= np.insert(microbe,0,0) #adding the extra value instead of string to use the list we got from above\n",
    "        healthy_microbe = (microbe[healthy_col].sum())/healthy_amount\n",
    "        if not healthy_microbe:\n",
    "            continue\n",
    "        sick_microbe = (microbe[sick_col].sum())/sick_amount\n",
    "        if not sick_microbe:\n",
    "            continue\n",
    "        my_list.append(math.log10(sick_microbe/healthy_microbe)) #apparently lists are faster for just appending than it is in an numpy array\n",
    "plot_array = np.array(my_list)        \n",
    "sns.displot(plot_array,kde=True)"
   ]
  },
  {
   "cell_type": "markdown",
   "id": "6acbe235",
   "metadata": {},
   "source": [
    "# Project 3\n",
    "\n",
    "* `range(12397): #12397 lines`  Never do this! Constants in code. Make your code versatile!\n",
    "\n",
    "\n",
    "10/10\n"
   ]
  },
  {
   "cell_type": "code",
   "execution_count": 4,
   "id": "6e23e95a",
   "metadata": {},
   "outputs": [],
   "source": [
    "#import wget\n",
    "from pathlib import Path\n",
    "import pandas as pd\n",
    "import numpy as np\n",
    "\n",
    "\n",
    "if False:\n",
    "    Path(\"./project_3_aggk\").mkdir(parents=True, exist_ok=True) #make directory so files wont be a mess\n",
    "    for i in range(100):\n",
    "        sc_data = f'https://raw.githubusercontent.com/NielsenBerkeleyLab/sconce/main/test/diploid/simu_healthy_cell_{i}.hg19_lite.bed'\n",
    "        wget.download(sc_data, f'project_3_aggk/SC_{i}.bed')\n",
    "\n",
    "    with open(f'project_3_aggk/average_aggk.bed', 'w') as line: # i do this since i used append later in the code. I know it empties the file so i added custom name\n",
    "        pass\n",
    "\n",
    "\n",
    "sum_array = np.zeros(shape=(1, 12397))\n",
    "\n",
    "for j in range(100):\n",
    "    my_list = []\n",
    "    with open(f'../simu_healthy_cell_{j}.hg19_lite.bed','r') as sc_file: \n",
    "        for lines in range(12397): #12397 lines\n",
    "            cnv_count = (sc_file.readline().strip()).split('\\t')[3]\n",
    "            my_list.append(cnv_count)\n",
    "        cnv_array = np.array(my_list, dtype=float)\n",
    "        sum_array = np.add(sum_array,cnv_array)\n",
    "        \n",
    "mean_sum_array = sum_array/100\n",
    "\n",
    "\n",
    "\n",
    "with open(f'../simu_healthy_cell_0.hg19_lite.bed', 'r') as read_line: #does not matter which one we open since all of the files have identical first 3 columns\n",
    "    for t in range(12397):\n",
    "        to_write = read_line.readline().strip().split('\\t')[:-1]\n",
    "        cvn_mean = str(mean_sum_array[0][t])\n",
    "        to_write.append(cvn_mean)\n",
    "        line_to_write = '\\t'.join(to_write)\n",
    "        with open(f'average_aggk.bed', 'a') as line: # i do this since i used append later in the code. I know it empties the file so i added custom name\n",
    "            line.write(f'{line_to_write}\\n')\n",
    "            \n",
    "            "
   ]
  },
  {
   "cell_type": "code",
   "execution_count": 5,
   "id": "402f9fc8",
   "metadata": {},
   "outputs": [
    {
     "name": "stdout",
     "output_type": "stream",
     "text": [
      "chr1\t0\t250000\t322.85\r\n",
      "chr1\t250000\t500000\t324.23\r\n",
      "chr1\t500000\t750000\t319.01\r\n",
      "chr1\t750000\t1000000\t319.74\r\n",
      "chr1\t1000000\t1250000\t310.61\r\n",
      "chr1\t1250000\t1500000\t317.59\r\n",
      "chr1\t1500000\t1750000\t326.47\r\n",
      "chr1\t1750000\t2000000\t321.61\r\n",
      "chr1\t2000000\t2250000\t329.07\r\n",
      "chr1\t2250000\t2500000\t319.65\r\n"
     ]
    }
   ],
   "source": [
    "! head average_aggk.bed"
   ]
  },
  {
   "cell_type": "code",
   "execution_count": 6,
   "id": "56b94d27",
   "metadata": {},
   "outputs": [
    {
     "name": "stdout",
     "output_type": "stream",
     "text": [
      "chrY\t57000000\t57250000\t328.6\r\n",
      "chrY\t57250000\t57500000\t316.39\r\n",
      "chrY\t57500000\t57750000\t324.13\r\n",
      "chrY\t57750000\t58000000\t326.78\r\n",
      "chrY\t58000000\t58250000\t327.01\r\n",
      "chrY\t58250000\t58500000\t326.52\r\n",
      "chrY\t58500000\t58750000\t311.5\r\n",
      "chrY\t58750000\t59000000\t322.06\r\n",
      "chrY\t59000000\t59250000\t315.52\r\n",
      "chrY\t59250000\t59373566\t321.91\r\n"
     ]
    }
   ],
   "source": [
    "! tail average_aggk.bed"
   ]
  },
  {
   "cell_type": "markdown",
   "id": "1ca4b562",
   "metadata": {},
   "source": [
    "# Project 5\n",
    "\n",
    "10/10\n"
   ]
  },
  {
   "cell_type": "code",
   "execution_count": 1,
   "id": "cd3e12f7",
   "metadata": {},
   "outputs": [
    {
     "data": {
      "text/plain": [
       "Text(0, 0.5, 'pval 5vs0min')"
      ]
     },
     "execution_count": 1,
     "metadata": {},
     "output_type": "execute_result"
    },
    {
     "data": {
      "image/png": "[encoded data removed]",
      "text/plain": [
       "<Figure size 640x480 with 1 Axes>"
      ]
     },
     "metadata": {},
     "output_type": "display_data"
    }
   ],
   "source": [
    "import pandas as pd\n",
    "import matplotlib.pylab as plot\n",
    "\n",
    "data = pd.read_csv('https://raw.githubusercontent.com/saezlab/kinact/master/kinact/data/deGraaf_2014_jurkat.csv')\n",
    "volcano_data = data[['Average Log2 Intensity 0min','Average Log2 Intensity 5min','p value_5vs0min']].copy()\n",
    "volcano_data['Intensity Difference 5min-0min (log2)'] = volcano_data['Average Log2 Intensity 5min'] - volcano_data['Average Log2 Intensity 0min']\n",
    "plot.scatter(x=volcano_data['Intensity Difference 5min-0min (log2)'],y=volcano_data['p value_5vs0min'], s=0.8) \n",
    "plot.xlabel(\"Intensitity Difference 5-0min (log2)\")\n",
    "plot.ylabel(\"pval 5vs0min\")\n",
    "\n"
   ]
  },
  {
   "cell_type": "markdown",
   "id": "adc40841",
   "metadata": {},
   "source": [
    "# Project 6\n",
    "\n",
    "10/10\n"
   ]
  },
  {
   "cell_type": "code",
   "execution_count": 3,
   "id": "513b44d4",
   "metadata": {},
   "outputs": [
    {
     "data": {
      "text/plain": [
       "array([[0, 0, 0, 1, 0, 0, 0, 0],\n",
       "       [1, 0, 0, 0, 0, 0, 0, 0],\n",
       "       [0, 0, 0, 0, 1, 0, 0, 0],\n",
       "       [0, 0, 0, 0, 0, 0, 0, 1],\n",
       "       [0, 1, 0, 0, 0, 0, 0, 0],\n",
       "       [0, 0, 0, 0, 0, 1, 0, 0],\n",
       "       [1, 0, 0, 0, 0, 0, 0, 0],\n",
       "       [0, 0, 0, 1, 0, 0, 0, 0],\n",
       "       [0, 0, 1, 0, 0, 0, 0, 0],\n",
       "       [0, 0, 0, 0, 0, 0, 1, 0]])"
      ]
     },
     "execution_count": 3,
     "metadata": {},
     "output_type": "execute_result"
    }
   ],
   "source": [
    "import numpy as np\n",
    "\n",
    "# %% ################--------- Project 6 ---------##################\n",
    "def list_to_dict(strng):\n",
    "    lst = list(strng)\n",
    "    letter_indexes = {}\n",
    "    indx = 0\n",
    "    for i in lst:\n",
    "        if not i in letter_indexes:\n",
    "            letter_indexes[i] = []\n",
    "            letter_indexes[i].append(indx)\n",
    "            indx += 1\n",
    "        else:\n",
    "            letter_indexes[i].append(indx)\n",
    "            indx += 1\n",
    "    return letter_indexes \n",
    "\n",
    "def proj_6(x):\n",
    "        letter_positions = list_to_dict(x)\n",
    "        let_ind = { v:k for k,v in list(enumerate(sorted(set(x)))) } #Gives one hot\n",
    "        one_hot_arr = np.zeros(shape=(len(x), len(set(x))), dtype=int)\n",
    "        for uniq_let in list(set(x)):\n",
    "            #print(uniq_let)\n",
    "            for ltind in letter_positions[uniq_let]:\n",
    "                dummy_2 = let_ind[uniq_let]\n",
    "                one_hot_arr[ltind][dummy_2] = 1\n",
    "        return one_hot_arr\n",
    "\n",
    "proj_6('kanterakis')"
   ]
  },
  {
   "cell_type": "code",
   "execution_count": 4,
   "id": "9bc2f979",
   "metadata": {},
   "outputs": [
    {
     "data": {
      "text/plain": [
       "array([[1]])"
      ]
     },
     "execution_count": 4,
     "metadata": {},
     "output_type": "execute_result"
    }
   ],
   "source": [
    "proj_6('a')"
   ]
  },
  {
   "cell_type": "code",
   "execution_count": 5,
   "id": "20a047b4",
   "metadata": {},
   "outputs": [
    {
     "data": {
      "text/plain": [
       "array([[1],\n",
       "       [1],\n",
       "       [1],\n",
       "       [1]])"
      ]
     },
     "execution_count": 5,
     "metadata": {},
     "output_type": "execute_result"
    }
   ],
   "source": [
    "proj_6('aaaa')"
   ]
  },
  {
   "cell_type": "code",
   "execution_count": 6,
   "id": "79579f6e",
   "metadata": {},
   "outputs": [
    {
     "data": {
      "text/plain": [
       "array([[1, 0],\n",
       "       [0, 1],\n",
       "       [1, 0],\n",
       "       [1, 0],\n",
       "       [1, 0]])"
      ]
     },
     "execution_count": 6,
     "metadata": {},
     "output_type": "execute_result"
    }
   ],
   "source": [
    "proj_6('abaaa')"
   ]
  },
  {
   "cell_type": "code",
   "execution_count": 7,
   "id": "bc577acd",
   "metadata": {},
   "outputs": [
    {
     "data": {
      "text/plain": [
       "array([[1, 0, 0, 0, 0, 0, 0],\n",
       "       [0, 1, 0, 0, 0, 0, 0],\n",
       "       [0, 0, 1, 0, 0, 0, 0],\n",
       "       [0, 0, 0, 1, 0, 0, 0],\n",
       "       [0, 0, 0, 0, 1, 0, 0],\n",
       "       [0, 0, 0, 0, 0, 1, 0],\n",
       "       [0, 0, 0, 0, 0, 0, 1]])"
      ]
     },
     "execution_count": 7,
     "metadata": {},
     "output_type": "execute_result"
    }
   ],
   "source": [
    "proj_6('abcdefg')"
   ]
  },
  {
   "cell_type": "markdown",
   "id": "6129b025",
   "metadata": {},
   "source": [
    "# Project 7\n",
    "\n",
    "* Γενικότερα αποφέυγουμε να λύσουμε μία άσκηση με strings όταν μπορούμε να τη λύσουμε χωρίς strings. Τα regexps που βάζεις δεν χρειάζονται. \n",
    "\n",
    "9/10\n"
   ]
  },
  {
   "cell_type": "markdown",
   "id": "1c069517",
   "metadata": {},
   "source": [
    "H λύση μου:"
   ]
  },
  {
   "cell_type": "code",
   "execution_count": 6,
   "id": "bdaeec04",
   "metadata": {},
   "outputs": [],
   "source": [
    "def f_sol(l):\n",
    "    G = nx.DiGraph()\n",
    "\n",
    "    labels = {}\n",
    "\n",
    "    for seq in l:\n",
    "        \n",
    "        l2 = [(s,i) for i,s in enumerate(seq) if s != '-']\n",
    "        \n",
    "        for a,b in zip(l2, l2[1:]):\n",
    "            \n",
    "            G.add_edge(a,b)\n",
    "            labels[a] = f'{a[0]}:{a[1]}'\n",
    "            labels[b] = f'{b[0]}:{b[1]}'\n",
    "\n",
    "    pos = nx.circular_layout(G)\n",
    "    nx.draw_networkx(G,pos, labels=labels, with_labels = True)"
   ]
  },
  {
   "cell_type": "markdown",
   "id": "40a108d7",
   "metadata": {},
   "source": [
    "H λύση σου:"
   ]
  },
  {
   "cell_type": "code",
   "execution_count": 1,
   "id": "1aecd31e",
   "metadata": {},
   "outputs": [
    {
     "data": {
      "image/png": "[encoded data removed]",
      "text/plain": [
       "<Figure size 640x480 with 1 Axes>"
      ]
     },
     "metadata": {},
     "output_type": "display_data"
    }
   ],
   "source": [
    "import re\n",
    "import networkx as nx\n",
    "\n",
    "def uniq_wo_chng(thelist):\n",
    "    seen = set()\n",
    "    seen_add = seen.add\n",
    "    return [x_1 for x_1 in thelist if not (x_1 in seen or seen_add(x_1))]\n",
    "\n",
    "def indexing(motifs):\n",
    "    lst = [list(seq) for seq in motifs]\n",
    "    letter_indexes = {}\n",
    "    position_index = {}\n",
    "    str_tst = ''\n",
    "    final_node_str = ''\n",
    "    node_list = []\n",
    "    nodes = 0\n",
    "    \n",
    "    for i in lst:\n",
    "        indx = 1\n",
    "        for j in i:\n",
    "            if not j in letter_indexes:\n",
    "                letter_indexes[j] = []\n",
    "                letter_indexes[j].append(indx)\n",
    "                indx += 1\n",
    "            else:\n",
    "                letter_indexes[j].append(indx)\n",
    "                letter_indexes[j] = sorted(set(letter_indexes[j]))\n",
    "                indx += 1\n",
    "        indx = 1\n",
    "        for i_1 in i:\n",
    "            if not indx in position_index:\n",
    "                position_index[indx] = []\n",
    "                position_index[indx].append(i_1)\n",
    "                indx += 1\n",
    "            else:\n",
    "                position_index[indx].append(i_1)\n",
    "                position_index[indx] = uniq_wo_chng(position_index[indx])\n",
    "                indx += 1  \n",
    "    for k in letter_indexes:\n",
    "        if k != '-':\n",
    "            nodes += len(letter_indexes[k])\n",
    "    dum_pos = sorted(range(1,nodes+1), reverse=True)\n",
    "    for i_2 in range(1,len(motifs[0])+1):\n",
    "        for i_3 in position_index[i_2]:\n",
    "            if i_3 == '-':\n",
    "                continue\n",
    "            create_string = f'Κόμβος {dum_pos[-1]} --> Θέση:{i_2} βάση:{i_3}'   \n",
    "            str_tst = '\\n'.join([str_tst,create_string]) #This is the string with all my nodes, position and nucleotide\n",
    "            dum_pos.pop()\n",
    "    node_labels = re.findall(r'Κόμβος (\\d+) --> Θέση:(\\d+) βάση:(\\w)', str_tst)\n",
    "    node_labels = {x[0]: f'{x[2]}:{x[1]}' for x in node_labels} #int x[0]\n",
    "    for motif_node in lst:\n",
    "        for pstn in range(1,len(motif_node)+1):\n",
    "            nucleotide = motif_node[(pstn-1)]\n",
    "            if nucleotide == '-':\n",
    "                continue\n",
    "            re_get_node = re.compile(f'Κόμβος [\\d]+ --> Θέση:{pstn} βάση:{nucleotide}')\n",
    "            got_node = str(re_get_node.findall(str_tst))\n",
    "            got_node = re.sub(f'[^\\d-]','',got_node)\n",
    "            got_node = got_node.split('--')[0]\n",
    "            if got_node:\n",
    "                node_list.append(got_node)\n",
    "                got_node = ''\n",
    "                continue\n",
    "        ind_count = 1\n",
    "        for i_4 in node_list:\n",
    "            if int(i_4) == int(node_list[-1]):\n",
    "                continue\n",
    "            next_node = int(node_list[ind_count])\n",
    "            all_node_str = f'({i_4},{next_node})'\n",
    "            if all_node_str in final_node_str:\n",
    "                ind_count += 1\n",
    "                continue\n",
    "            ind_count += 1\n",
    "            final_node_str = '\\n'.join([final_node_str,all_node_str])    \n",
    "        node_list = []\n",
    "        \n",
    "    anoth = final_node_str.replace('\\n','',1).split('\\n') #remove the first new line\n",
    "    anoth = str(sorted([eval(n_tup) for n_tup in anoth], key = lambda x: (x[0], x[1])))\n",
    "    anoth = re.sub('[\\[\\]]','',anoth)\n",
    "    G = nx.DiGraph()\n",
    "    edges = re.findall(r'\\((\\d+), (\\d+)\\)', anoth)\n",
    "    for s_ed in edges:\n",
    "        G.add_edge(s_ed[0], s_ed[1])\n",
    "    pos = nx.circular_layout(G)\n",
    "    return nx.draw_networkx(G,pos, labels=node_labels, with_labels = True) \n",
    "\n",
    "l = [\n",
    "    'TGACAT---TA',\n",
    "    'TAACATGTCTA',\n",
    "    'TC---T---TA',]\n",
    "\n",
    "indexing(l)"
   ]
  },
  {
   "cell_type": "code",
   "execution_count": 3,
   "id": "cd60f94c",
   "metadata": {},
   "outputs": [
    {
     "data": {
      "image/png": "[encoded data removed]",
      "text/plain": [
       "<Figure size 640x480 with 1 Axes>"
      ]
     },
     "metadata": {},
     "output_type": "display_data"
    }
   ],
   "source": [
    "indexing(['AA', 'AC'])"
   ]
  },
  {
   "cell_type": "code",
   "execution_count": 4,
   "id": "e22a1eb6",
   "metadata": {},
   "outputs": [
    {
     "data": {
      "image/png": "[encoded data removed]",
      "text/plain": [
       "<Figure size 640x480 with 1 Axes>"
      ]
     },
     "metadata": {},
     "output_type": "display_data"
    }
   ],
   "source": [
    "indexing(['AAA', 'ACA', 'ATA'])"
   ]
  },
  {
   "cell_type": "code",
   "execution_count": 5,
   "id": "a457aaeb",
   "metadata": {},
   "outputs": [
    {
     "data": {
      "image/png": "[encoded data removed]",
      "text/plain": [
       "<Figure size 640x480 with 1 Axes>"
      ]
     },
     "metadata": {},
     "output_type": "display_data"
    }
   ],
   "source": [
    "indexing(['AAA', 'ACA', 'A-A'])"
   ]
  },
  {
   "cell_type": "markdown",
   "id": "eacce057",
   "metadata": {},
   "source": [
    "# Project 8\n",
    "\n",
    "Έπρεπε να του αλλάξω κάποιες γραμμες για να παίξει (check comment)\n",
    "\n",
    "8/10\n"
   ]
  },
  {
   "cell_type": "code",
   "execution_count": 6,
   "id": "bc3fe159",
   "metadata": {},
   "outputs": [
    {
     "data": {
      "image/png": "[encoded data removed]",
      "text/plain": [
       "<Figure size 640x480 with 1 Axes>"
      ]
     },
     "metadata": {},
     "output_type": "display_data"
    }
   ],
   "source": [
    "import itertools, re, time\n",
    "import matplotlib.pyplot as plt\n",
    "import numpy as np\n",
    "from collections import Counter\n",
    "\n",
    "def get_lines(fl):\n",
    "    with open(f'{fl}') as get_lines:\n",
    "        line_number = list(enumerate(get_lines))[-1][0]+1\n",
    "    return line_number\n",
    "\n",
    "whole_seq = ''\n",
    "with open('../sequence.fasta') as e_col:\n",
    "    e_col.readline()\n",
    "    # ALEX CORRECTION\n",
    "    #for i in range(get_lines('../sequence.fasta')):\n",
    "    for one_line in e_col:\n",
    "        #one_line = e_col.readline()\n",
    "        whole_seq = ''.join([whole_seq,one_line])\n",
    "whole_seq = re.sub(r'\\n','',whole_seq)\n",
    "eightmers = itertools.product(*itertools.repeat(['A','T','G','C'], 8))\n",
    "dict_mers = {}\n",
    "for rnd in eightmers:\n",
    "    dict_mers[''.join(list(rnd))] = 0 #create a dictionary with all 65536 possible 8mers\n",
    "\n",
    "for j in range(len(whole_seq)-8+1): #we assign each time we find an 8mer to the dictionary, moving at a pace of 1 nucleotide from left to right at a time\n",
    "    motif = j+8\n",
    "    e_mer = whole_seq[j:motif]\n",
    "    dict_mers[e_mer] += 1\n",
    "\n",
    "\n",
    "#filtered_dict_mers = {k:v for k,v in dict_mers.items() if v != 0} #65360 ... Only 176 not found! # We would use this to filter, but no need to here\n",
    "all_kmer_occurences = list(dict_mers.values())\n",
    "occurence_counter = dict(Counter(all_kmer_occurences))\n",
    "\n",
    "\n",
    "axis_x = np.array([k_1 for k_1,v_1 in occurence_counter.items()]) #frequency\n",
    "axis_y = np.array([v_2 for k_2,v_2 in occurence_counter.items()]) #count\n",
    "\n",
    "plt.scatter(axis_x, axis_y,s=0.5)\n",
    "plt.title(\"8-mer Frequency vs Frequency Count\")\n",
    "plt.xlabel(\"8-mer frequency\")\n",
    "plt.ylabel(\"count\")\n",
    "plt.show()"
   ]
  },
  {
   "cell_type": "markdown",
   "id": "b48d349e",
   "metadata": {},
   "source": [
    "# Project 9\n",
    "\n",
    "εξαιρετικά αργή υλοποίηση:\n",
    "\n",
    "1. Δεν χρησιμοποιούμε pandas για να βρούμε ΕΝΑ στοιχείο από ένα τεράστιο αρχείο, μόνο μία φορά.. Εξαιρετικά μεγάλη σπατάλη μνήμης/cpu. \n",
    "2. Όταν έχουμε μία απλή αντιστοίχιση π.χ. IDS --> Names χρησιμοποιύμε dictionaries. Είναι εκατοντάδες φορές πιο γρήγορα από pandas...\n",
    "\n",
    "Έχω υλοποιήσει τα παραπάνω. Πρόσεξε τη διαφορά στη ταχύτητα\n",
    "\n",
    "8/10"
   ]
  },
  {
   "cell_type": "code",
   "execution_count": 25,
   "id": "920d1a34",
   "metadata": {},
   "outputs": [
    {
     "name": "stdout",
     "output_type": "stream",
     "text": [
      "Reading data..\n",
      "  done reading data\n"
     ]
    },
    {
     "data": {
      "text/plain": [
       "19"
      ]
     },
     "execution_count": 25,
     "metadata": {},
     "output_type": "execute_result"
    }
   ],
   "source": [
    "#import wget, tarfile\n",
    "from pathlib import Path\n",
    "import pandas as pd \n",
    "import numpy as np\n",
    "from numpy import genfromtxt\n",
    "import re, time \n",
    "\n",
    "\n",
    "\n",
    "#Path(\"./project_9_aggk\").mkdir(parents=True, exist_ok=True) #make directory so files wont be a mess\n",
    "#p9_data = f'https://ftp.ncbi.nih.gov/pub/taxonomy/taxdump.tar.gz'\n",
    "#wget.download(p9_data, f'project_9_aggk/taxdump.tar.gz')\n",
    "\n",
    "#p9_data = tarfile.open(f'project_9_aggk/taxdump.tar.gz')\n",
    "#p9_data.extractall(f'./project_9_aggk')\n",
    "#p9_data.close()\n",
    "\n",
    "\n",
    "print ('Reading data..')\n",
    "\n",
    "node_array = genfromtxt('../nodes.dmp', delimiter='|', usecols=[0,1],dtype=int)\n",
    "my_pd = pd.DataFrame(node_array)\n",
    "my_headers =  ['Organism Id','Parent Node']\n",
    "my_pd.columns = my_headers\n",
    "\n",
    "# Alex: speed(Dictionaries) >>>> speed(pandas)\n",
    "# Alternatively you could have changed the index of pandas. That would had the same effect in speed.\n",
    "my_pd_dict = {x['Organism Id'] : x['Parent Node'] for x in my_pd.to_dict('records')}\n",
    "print ('  done reading data')\n",
    "\n",
    "def get_org_id(strng):\n",
    "    #print (strng)\n",
    "    with open('../names.dmp') as f:\n",
    "        for l in f:\n",
    "            ls = l.split('|')\n",
    "            org_id = int(ls[0].strip())\n",
    "            org_name = ls[1].strip()\n",
    "            if org_name == strng:\n",
    "                return org_id\n",
    "    \n",
    "    # Alex: Pandas is for 2D analysis not for locating ONE thing in a huge file..\n",
    "    \n",
    "    #with pd.read_table('../names.dmp', sep='|', usecols=[0,1], header = None, index_col=None, chunksize=1, encoding='utf-8') as f_2:\n",
    "    #    for line_2 in f_2:\n",
    "    #        line_2[1] = line_2[1].str.strip('\\t')\n",
    "    #        org_name = str(line_2[1].values[0])\n",
    "    #        org_id =  int(line_2[0].values[0])   \n",
    "    #        if strng == org_name:\n",
    "    #            return org_id\n",
    "\n",
    "def get_tree(org_name):\n",
    "    \n",
    "    first_id = get_org_id(org_name)\n",
    "    p9_list = [first_id]\n",
    "    while first_id != 1:\n",
    "        #parent_node = my_pd.loc[my_pd['Organism Id'] == first_id ]['Parent Node'].values[0]\n",
    "        parent_node = my_pd_dict[first_id] # <-- Alex: This makes it 100 times faster\n",
    "        p9_list.append(parent_node)\n",
    "        first_id = parent_node\n",
    "\n",
    "    return p9_list\n",
    "\n",
    "\n",
    "def distance(o_1,o_2):\n",
    "    org_1 = get_tree(o_1)\n",
    "    org_2 = get_tree(o_2)\n",
    "    for i in org_1:\n",
    "        if i in org_2:\n",
    "            break\n",
    "        \n",
    "    return (org_1.index(i)+1 + org_2.index(i)+1)\n",
    "\n",
    "\n",
    "\n",
    "distance('Homo sapiens', 'Felis catus')"
   ]
  },
  {
   "cell_type": "code",
   "execution_count": 26,
   "id": "2c2c7ebe",
   "metadata": {},
   "outputs": [
    {
     "data": {
      "text/plain": [
       "19"
      ]
     },
     "execution_count": 26,
     "metadata": {},
     "output_type": "execute_result"
    }
   ],
   "source": [
    "distance('Homo sapiens', 'Felis catus')"
   ]
  },
  {
   "cell_type": "code",
   "execution_count": 27,
   "id": "c7ae4d3c",
   "metadata": {},
   "outputs": [
    {
     "data": {
      "text/plain": [
       "6"
      ]
     },
     "execution_count": 27,
     "metadata": {},
     "output_type": "execute_result"
    }
   ],
   "source": [
    "distance('Homo sapiens', 'Pan troglodytes') # άνθρωπος <--> χιμπαντζής"
   ]
  },
  {
   "cell_type": "markdown",
   "id": "1dee368b",
   "metadata": {},
   "source": [
    "# Project 10\n",
    "\n",
    "Nice!\n",
    "\n",
    "10/10\n"
   ]
  },
  {
   "cell_type": "code",
   "execution_count": 3,
   "id": "eda588ab",
   "metadata": {},
   "outputs": [
    {
     "name": "stdout",
     "output_type": "stream",
     "text": [
      "50000\n",
      "100000\n",
      "150000\n",
      "200000\n",
      "250000\n",
      "300000\n",
      "350000\n",
      "400000\n",
      "450000\n",
      "500000\n",
      "550000\n",
      "600000\n",
      "650000\n",
      "700000\n",
      "750000\n",
      "800000\n",
      "AAATACGCG is the smallest motif not found\n",
      "67.16218709945679\n"
     ]
    }
   ],
   "source": [
    "#import wget\n",
    "import gzip\n",
    "from pathlib import Path\n",
    "import itertools, time\n",
    "\n",
    "start_time = time.time()\n",
    "\n",
    "\n",
    "#Path(\"./project_10_aggk\").mkdir(parents=True, exist_ok=True) #make directory so files wont be a mess\n",
    "\n",
    "#p10_data = f'http://ftp.ensembl.org/pub/release-105/fasta/homo_sapiens/dna/Homo_sapiens.GRCh38.dna.chromosome.22.fa.gz'\n",
    "#wget.download(p10_data, f'project_10_aggk/chr22.fa.gz')\n",
    "\n",
    "def generate_seq():\n",
    "    s = ''\n",
    "    with gzip.open(f'../Homo_sapiens.GRCh38.dna.chromosome.22.fa.gz', 'rt') as f:\n",
    "        for i, l in enumerate(f):\n",
    "            if i==0:\n",
    "                continue\n",
    "            if i%50_000 == 0:\n",
    "                print (f'{i}')\n",
    "            s += l.strip().replace('N','')\n",
    "    return s\n",
    "\n",
    "\n",
    "def get_motif():\n",
    "    all_seq = generate_seq()\n",
    "    for j in range(3,100): #I chose 3 because there is no way 2-mers wont exist (not that 3 changes it but still)\n",
    "        kmers = itertools.product(*itertools.repeat(['A','T','G','C'], j))\n",
    "        dict_mers = {}\n",
    "        for rnd in kmers:\n",
    "            dict_mers[''.join(list(rnd))] = 0 \n",
    "        for n in dict_mers.keys():\n",
    "            if n in all_seq:\n",
    "                continue\n",
    "            else:\n",
    "                got_it = f'{n} is the smallest motif not found'\n",
    "                return got_it\n",
    "                \n",
    "print(get_motif())\n",
    "\n",
    "                \n",
    "end_time = time.time()\n",
    "print(end_time - start_time)"
   ]
  },
  {
   "cell_type": "code",
   "execution_count": 2,
   "id": "84943283",
   "metadata": {},
   "outputs": [
    {
     "name": "stdout",
     "output_type": "stream",
     "text": [
      "ls: ../chr*: No such file or directory\r\n"
     ]
    }
   ],
   "source": [
    "! ls -l ../chr*"
   ]
  },
  {
   "cell_type": "code",
   "execution_count": null,
   "id": "0d097123",
   "metadata": {},
   "outputs": [],
   "source": [
    "# %%  ################--------- Project 1 ---------##################\n",
    "import pandas as pd\n",
    "import json, re, time #I think the file has changed since the project was uploaded. I get slightly different age values\n",
    "pat_file = 'clinical.project-TCGA-BRCA.2023-03-08.json' #This means the file is in the current directory (working with vscode) else i would repalce with ~/Desktop/Master/Python/scripts/blahblah.json\n",
    "def proj_1():\n",
    "    primary_diagnosis = re.compile(r\"'primary_diagnosis': '[A-Za-z\\, ]*\")\n",
    "    age_of_diagnosis = re.compile(r\"'age_at_diagnosis': [0-9None]*\") #We add none since it is included in some ages\n",
    "    my_dict = {}\n",
    "    some_values_are_like_this = ' None'\n",
    "    with open(pat_file) as pats:\n",
    "           \n",
    "        patients = json.loads(pats.read())\n",
    "        for i in patients:\n",
    "            try:\n",
    "                i['diagnoses'] #Some of the patients do not have a diagnoses (only case_id) so we complement it with this\n",
    "            except:\n",
    "                continue\n",
    "            result = str(i['diagnoses'])\n",
    "            diag_1 = str(primary_diagnosis.findall(result))\n",
    "            age_1 = str(age_of_diagnosis.findall(result))\n",
    "            diag_2 = re.sub(\"'primary_diagnosis'\", '', diag_1)\n",
    "            diag_3 = re.sub(r\"[\\[\\]\\\"\\:\\']\", '', diag_2)\n",
    "            disease = diag_3.lstrip(diag_3[0])\n",
    "            age_2 = re.sub(\"'age_at_diagnosis'\", '', age_1)\n",
    "            age_3 = re.sub(r\"[\\[\\]\\\"\\:\\']\", '', age_2)\n",
    "            if age_3 == some_values_are_like_this: #I have to add this if since we encounter None\n",
    "                if not disease in my_dict:\n",
    "                    mean_age = 0\n",
    "                    my_dict[disease] = [1, mean_age]\n",
    "                    continue\n",
    "                else:\n",
    "                    continue \n",
    "            age = (int(age_3.lstrip(age_3[0])))/365 # It seems some of the patients do not have an age_at_diagnosis, and is marked as none\n",
    "            if not disease in my_dict:\n",
    "                mean_age = age\n",
    "                my_dict[disease] = [1, mean_age]\n",
    "            else:\n",
    "                mean_age = (my_dict[disease][1] + age)\n",
    "                my_dict[disease][0] += 1\n",
    "                my_dict[disease][1] = mean_age\n",
    "        my_dict = {key:val for key, val in my_dict.items() if val[0] >= 10} #>= or > ? We do this first to have less data to work with when counting mean \n",
    "        for k,v in my_dict.items():\n",
    "            my_dict[k][1] = (my_dict[k][1]) / (my_dict[k][0])\n",
    "        my_dict = dict(sorted(my_dict.items(), key=lambda x:x[1][1]))\n",
    "        my_df = pd.DataFrame(\n",
    "            [(dis, ags[1]) for dis, ags in my_dict.items()],\n",
    "            columns=['Diagnosis', 'Average_age_at_diagnosis']\n",
    "            )\n",
    "        return my_df\n",
    "proj_1()\n",
    "#We have 1097 entries in total, but patient 75 ([74]) does not have diagnosis\n",
    "\n",
    "\n",
    "\n",
    "\n",
    "\n",
    "# %% ################--------- Project 2 ---------##################\n",
    "import pandas as pd\n",
    "import numpy as np\n",
    "import seaborn as sns\n",
    "import math, time, gzip, re\n",
    "\n",
    "my_list = []\n",
    "h_s = pd.read_csv('mbqc_integrated_otus.tsv.gz',sep='\\t', header = None, compression='gzip', skiprows=27, nrows=1)\n",
    "healthy_col = list(h_s.columns[h_s.isin(['Healthy']).any()])\n",
    "healthy_amount = len(healthy_col)\n",
    "sick_col = list(h_s.columns[h_s.isin(['Sick']).any()])\n",
    "sick_amount = len(sick_col)\n",
    "\n",
    "with gzip.open('mbqc_integrated_otus.tsv.gz', 'rt', encoding='utf-8') as plot_data:\n",
    "    for i in range(72):\n",
    "        plot_data.readline()\n",
    "    for j in range(27211): #for i in range(27211):\n",
    "        re_pattern = re.compile(\"[A-Za-z\\|\\_0-9]*\\t\")\n",
    "        my_line = plot_data.readline()\n",
    "        org_tax = re_pattern.search(my_line) #this will search lazy so it saves us time\n",
    "        start, end = org_tax.span() #we take the end which is the index from where we will start our array\n",
    "        filtered_string = my_line[end:] #Since .fromstring has issues, we remove everything non-numeric and we replace it later with a sumple 0 in order to keep the indexing we saved from the first part\n",
    "        microbe = np.fromstring(filtered_string, sep = '\\t') #reads the string with tab delimiter\n",
    "        microbe= np.insert(microbe,0,0) #adding the extra value instead of string to use the list we got from above\n",
    "        healthy_microbe = (microbe[healthy_col].sum())/healthy_amount\n",
    "        if not healthy_microbe:\n",
    "            continue\n",
    "        sick_microbe = (microbe[sick_col].sum())/sick_amount\n",
    "        if not sick_microbe:\n",
    "            continue\n",
    "        my_list.append(math.log10(sick_microbe/healthy_microbe)) #apparently lists are faster for just appending than it is in an numpy array\n",
    "plot_array = np.array(my_list)        \n",
    "sns.displot(plot_array,kde=True)\n",
    "\n",
    "\n",
    "\n",
    "# %% ################--------- Project 3 ---------##################\n",
    "import wget\n",
    "from pathlib import Path\n",
    "import pandas as pd\n",
    "import numpy as np\n",
    "\n",
    "\n",
    "Path(\"./project_3_aggk\").mkdir(parents=True, exist_ok=True) #make directory so files wont be a mess\n",
    "for i in range(100):\n",
    "    sc_data = f'https://raw.githubusercontent.com/NielsenBerkeleyLab/sconce/main/test/diploid/simu_healthy_cell_{i}.hg19_lite.bed'\n",
    "    wget.download(sc_data, f'project_3_aggk/SC_{i}.bed')\n",
    "\n",
    "with open(f'project_3_aggk/average_aggk.bed', 'w') as line: # i do this since i used append later in the code. I know it empties the file so i added custom name\n",
    "    pass\n",
    "\n",
    "\n",
    "sum_array = np.zeros(shape=(1, 12397))\n",
    "\n",
    "for j in range(100):\n",
    "    my_list = []\n",
    "    with open(f'project_3_aggk/SC_{j}.bed','r') as sc_file: \n",
    "        for lines in range(12397): #12397 lines\n",
    "            cnv_count = (sc_file.readline().strip()).split('\\t')[3]\n",
    "            my_list.append(cnv_count)\n",
    "        cnv_array = np.array(my_list, dtype=float)\n",
    "        sum_array = np.add(sum_array,cnv_array)\n",
    "        \n",
    "mean_sum_array = sum_array/100\n",
    "\n",
    "with open(f'project_3_aggk/SC_0.bed', 'r') as read_line: #does not matter which one we open since all of the files have identical first 3 columns\n",
    "    for t in range(12397):\n",
    "        to_write = read_line.readline().strip().split('\\t')[:-1]\n",
    "        cvn_mean = str(mean_sum_array[0][t])\n",
    "        to_write.append(cvn_mean)\n",
    "        line_to_write = '\\t'.join(to_write)\n",
    "        with open(f'project_3_aggk/average_aggk.bed', 'a') as line: # i do this since i used append later in the code. I know it empties the file so i added custom name\n",
    "            line.write(f'{line_to_write}\\n')\n",
    "            \n",
    "            \n",
    "            \n",
    "\n",
    "# %% ################--------- Project 5 ---------##################\n",
    "import pandas as pd\n",
    "import matplotlib.pylab as plot\n",
    "\n",
    "data = pd.read_csv('https://raw.githubusercontent.com/saezlab/kinact/master/kinact/data/deGraaf_2014_jurkat.csv')\n",
    "volcano_data = data[['Average Log2 Intensity 0min','Average Log2 Intensity 5min','p value_5vs0min']].copy()\n",
    "volcano_data['Intensity Difference 5min-0min (log2)'] = volcano_data['Average Log2 Intensity 5min'] - volcano_data['Average Log2 Intensity 0min']\n",
    "plot.scatter(x=volcano_data['Intensity Difference 5min-0min (log2)'],y=volcano_data['p value_5vs0min'], s=0.8) \n",
    "plot.xlabel(\"Intensitity Difference 5-0min (log2)\")\n",
    "plot.ylabel(\"pval 5vs0min\")\n",
    "\n",
    "\n",
    "\n",
    "# %% ################--------- Project 6 ---------##################\n",
    "def list_to_dict(strng):\n",
    "    lst = list(strng)\n",
    "    letter_indexes = {}\n",
    "    indx = 0\n",
    "    for i in lst:\n",
    "        if not i in letter_indexes:\n",
    "            letter_indexes[i] = []\n",
    "            letter_indexes[i].append(indx)\n",
    "            indx += 1\n",
    "        else:\n",
    "            letter_indexes[i].append(indx)\n",
    "            indx += 1\n",
    "    return letter_indexes \n",
    "\n",
    "def proj_6(x):\n",
    "        letter_positions = list_to_dict(x)\n",
    "        let_ind = { v:k for k,v in list(enumerate(sorted(set(x)))) } #Gives one hot\n",
    "        one_hot_arr = np.zeros(shape=(len(x), len(set(x))), dtype=int)\n",
    "        for uniq_let in list(set(x)):\n",
    "            print(uniq_let)\n",
    "            for ltind in letter_positions[uniq_let]:\n",
    "                dummy_2 = let_ind[uniq_let]\n",
    "                one_hot_arr[ltind][dummy_2] = 1\n",
    "        return one_hot_arr\n",
    "\n",
    "print(proj_6('kanterakis'))\n",
    "\n",
    "\n",
    "\n",
    "# %% ################--------- Project 7 ---------################## No idea what i'm doing\n",
    "\n",
    "\n",
    "import re\n",
    "import networkx as nx\n",
    "\n",
    "def uniq_wo_chng(thelist):\n",
    "    seen = set()\n",
    "    seen_add = seen.add\n",
    "    return [x_1 for x_1 in thelist if not (x_1 in seen or seen_add(x_1))]\n",
    "\n",
    "def indexing(motifs):\n",
    "    lst = [list(seq) for seq in motifs]\n",
    "    letter_indexes = {}\n",
    "    position_index = {}\n",
    "    str_tst = ''\n",
    "    final_node_str = ''\n",
    "    node_list = []\n",
    "    nodes = 0\n",
    "    \n",
    "    for i in lst:\n",
    "        indx = 1\n",
    "        for j in i:\n",
    "            if not j in letter_indexes:\n",
    "                letter_indexes[j] = []\n",
    "                letter_indexes[j].append(indx)\n",
    "                indx += 1\n",
    "            else:\n",
    "                letter_indexes[j].append(indx)\n",
    "                letter_indexes[j] = sorted(set(letter_indexes[j]))\n",
    "                indx += 1\n",
    "        indx = 1\n",
    "        for i_1 in i:\n",
    "            if not indx in position_index:\n",
    "                position_index[indx] = []\n",
    "                position_index[indx].append(i_1)\n",
    "                indx += 1\n",
    "            else:\n",
    "                position_index[indx].append(i_1)\n",
    "                position_index[indx] = uniq_wo_chng(position_index[indx])\n",
    "                indx += 1  \n",
    "    for k in letter_indexes:\n",
    "        if k != '-':\n",
    "            nodes += len(letter_indexes[k])\n",
    "    dum_pos = sorted(range(1,nodes+1), reverse=True)\n",
    "    for i_2 in range(1,len(motifs[0])+1):\n",
    "        for i_3 in position_index[i_2]:\n",
    "            if i_3 == '-':\n",
    "                continue\n",
    "            create_string = f'Κόμβος {dum_pos[-1]} --> Θέση:{i_2} βάση:{i_3}'   \n",
    "            str_tst = '\\n'.join([str_tst,create_string]) #This is the string with all my nodes, position and nucleotide\n",
    "            dum_pos.pop()\n",
    "    node_labels = re.findall(r'Κόμβος (\\d+) --> Θέση:(\\d+) βάση:(\\w)', str_tst)\n",
    "    node_labels = {x[0]: f'{x[2]}:{x[1]}' for x in node_labels} #int x[0]\n",
    "    for motif_node in lst:\n",
    "        for pstn in range(1,len(motif_node)+1):\n",
    "            nucleotide = motif_node[(pstn-1)]\n",
    "            if nucleotide == '-':\n",
    "                continue\n",
    "            re_get_node = re.compile(f'Κόμβος [\\d]+ --> Θέση:{pstn} βάση:{nucleotide}')\n",
    "            got_node = str(re_get_node.findall(str_tst))\n",
    "            got_node = re.sub(f'[^\\d-]','',got_node)\n",
    "            got_node = got_node.split('--')[0]\n",
    "            if got_node:\n",
    "                node_list.append(got_node)\n",
    "                got_node = ''\n",
    "                continue\n",
    "        ind_count = 1\n",
    "        for i_4 in node_list:\n",
    "            if int(i_4) == int(node_list[-1]):\n",
    "                continue\n",
    "            next_node = int(node_list[ind_count])\n",
    "            all_node_str = f'({i_4},{next_node})'\n",
    "            if all_node_str in final_node_str:\n",
    "                ind_count += 1\n",
    "                continue\n",
    "            ind_count += 1\n",
    "            final_node_str = '\\n'.join([final_node_str,all_node_str])    \n",
    "        node_list = []\n",
    "        \n",
    "    anoth = final_node_str.replace('\\n','',1).split('\\n') #remove the first new line\n",
    "    anoth = str(sorted([eval(n_tup) for n_tup in anoth], key = lambda x: (x[0], x[1])))\n",
    "    anoth = re.sub('[\\[\\]]','',anoth)\n",
    "    G = nx.DiGraph()\n",
    "    edges = re.findall(r'\\((\\d+), (\\d+)\\)', anoth)\n",
    "    for s_ed in edges:\n",
    "        G.add_edge(s_ed[0], s_ed[1])\n",
    "    pos = nx.circular_layout(G)\n",
    "    return nx.draw_networkx(G,pos, labels=node_labels, with_labels = True) \n",
    "\n",
    "l = [\n",
    "    'TGACAT---TA',\n",
    "    'TAACATGTCTA',\n",
    "    'TC---T---TA',]\n",
    "\n",
    "indexing(l)\n",
    "\n",
    "\n",
    "# %% ################--------- Project 8 ---------##################\n",
    "import itertools, re, time\n",
    "import matplotlib.pyplot as plt\n",
    "import numpy as np\n",
    "from collections import Counter\n",
    "\n",
    "def get_lines(fl):\n",
    "    with open(f'{fl}') as get_lines:\n",
    "        line_number = list(enumerate(get_lines))[-1][0]+1\n",
    "    return line_number\n",
    "\n",
    "whole_seq = ''\n",
    "with open('e_coli.fa') as e_col:\n",
    "    for i in range(get_lines('e_coli.fa')):\n",
    "        one_line = e_col.readline()\n",
    "        whole_seq = ''.join([whole_seq,one_line])\n",
    "whole_seq = re.sub(r'\\n','',whole_seq)\n",
    "eightmers = itertools.product(*itertools.repeat(['A','T','G','C'], 8))\n",
    "dict_mers = {}\n",
    "for rnd in eightmers:\n",
    "    dict_mers[''.join(list(rnd))] = 0 #create a dictionary with all 65536 possible 8mers\n",
    "\n",
    "for j in range(len(whole_seq)-8+1): #we assign each time we find an 8mer to the dictionary, moving at a pace of 1 nucleotide from left to right at a time\n",
    "    motif = j+8\n",
    "    e_mer = whole_seq[j:motif]\n",
    "    dict_mers[e_mer] += 1\n",
    "\n",
    "\n",
    "#filtered_dict_mers = {k:v for k,v in dict_mers.items() if v != 0} #65360 ... Only 176 not found! # We would use this to filter, but no need to here\n",
    "all_kmer_occurences = list(dict_mers.values())\n",
    "occurence_counter = dict(Counter(all_kmer_occurences))\n",
    "\n",
    "\n",
    "axis_x = np.array([k_1 for k_1,v_1 in occurence_counter.items()]) #frequency\n",
    "axis_y = np.array([v_2 for k_2,v_2 in occurence_counter.items()]) #count\n",
    "\n",
    "plt.scatter(axis_x, axis_y,s=0.5)\n",
    "plt.title(\"8-mer Frequency vs Frequency Count\")\n",
    "plt.xlabel(\"8-mer frequency\")\n",
    "plt.ylabel(\"count\")\n",
    "plt.show()\n",
    "\n",
    "\n",
    "\n",
    "# %% ################--------- Project 9 ---------##################\n",
    "\n",
    "import wget, tarfile\n",
    "from pathlib import Path\n",
    "import pandas as pd \n",
    "import numpy as np\n",
    "from numpy import genfromtxt\n",
    "import re, time \n",
    "\n",
    "\n",
    "\n",
    "Path(\"./project_9_aggk\").mkdir(parents=True, exist_ok=True) #make directory so files wont be a mess\n",
    "p9_data = f'https://ftp.ncbi.nih.gov/pub/taxonomy/taxdump.tar.gz'\n",
    "wget.download(p9_data, f'project_9_aggk/taxdump.tar.gz')\n",
    "\n",
    "p9_data = tarfile.open(f'project_9_aggk/taxdump.tar.gz')\n",
    "p9_data.extractall(f'./project_9_aggk')\n",
    "p9_data.close()\n",
    "\n",
    "node_array = genfromtxt('project_9_aggk/nodes.dmp', delimiter='|', usecols=[0,1],dtype=int)\n",
    "my_pd = pd.DataFrame(node_array)\n",
    "my_headers =  ['Organism Id','Parent Node']\n",
    "my_pd.columns = my_headers\n",
    "    \n",
    "\n",
    "def get_org_id(strng):\n",
    "    with pd.read_table('project_9_aggk/names.dmp', sep='|', usecols=[0,1], header = None, index_col=None, chunksize=1, encoding='utf-8') as f_2:\n",
    "        for line_2 in f_2:\n",
    "            line_2[1] = line_2[1].str.strip('\\t')\n",
    "            org_name = str(line_2[1].values[0])\n",
    "            org_id =  int(line_2[0].values[0])   \n",
    "            if strng == org_name:\n",
    "                return org_id\n",
    "\n",
    "def get_tree(org_name):\n",
    "    \n",
    "    first_id = get_org_id(org_name)\n",
    "    p9_list = [first_id]\n",
    "    while first_id != 1:\n",
    "        parent_node = my_pd.loc[my_pd['Organism Id'] == first_id ]['Parent Node'].values[0]\n",
    "        p9_list.append(parent_node)\n",
    "        first_id = parent_node\n",
    "\n",
    "    return p9_list\n",
    "\n",
    "\n",
    "def distance(o_1,o_2):\n",
    "    org_1 = get_tree(o_1)\n",
    "    org_2 = get_tree(o_2)\n",
    "    for i in org_1:\n",
    "        if i in org_2:\n",
    "            break\n",
    "        \n",
    "    return (org_1.index(i)+1 + org_2.index(i)+1)\n",
    "\n",
    "print(distance('Homo sapiens', 'Felis catus'))\n",
    "\n",
    "\n",
    "\n",
    "\n",
    "# %% ################--------- Project 10 ---------##################\n",
    "\n",
    "import wget, gzip\n",
    "from pathlib import Path\n",
    "import itertools, time\n",
    "\n",
    "start_time = time.time()\n",
    "\n",
    "\n",
    "Path(\"./project_10_aggk\").mkdir(parents=True, exist_ok=True) #make directory so files wont be a mess\n",
    "\n",
    "p10_data = f'http://ftp.ensembl.org/pub/release-105/fasta/homo_sapiens/dna/Homo_sapiens.GRCh38.dna.chromosome.22.fa.gz'\n",
    "wget.download(p10_data, f'project_10_aggk/chr22.fa.gz')\n",
    "\n",
    "def generate_seq():\n",
    "    s = ''\n",
    "    with gzip.open(f'./project_10_aggk/chr22.fa.gz', 'rt') as f:\n",
    "        for i, l in enumerate(f):\n",
    "            if i==0:\n",
    "                continue\n",
    "            if i%50_000 == 0:\n",
    "                print (f'{i}')\n",
    "            s += l.strip().replace('N','')\n",
    "    return s\n",
    "\n",
    "\n",
    "def get_motif():\n",
    "    all_seq = generate_seq()\n",
    "    for j in range(3,100): #I chose 3 because there is no way 2-mers wont exist (not that 3 changes it but still)\n",
    "        kmers = itertools.product(*itertools.repeat(['A','T','G','C'], j))\n",
    "        dict_mers = {}\n",
    "        for rnd in kmers:\n",
    "            dict_mers[''.join(list(rnd))] = 0 \n",
    "        for n in dict_mers.keys():\n",
    "            if n in all_seq:\n",
    "                continue\n",
    "            else:\n",
    "                got_it = f'{n} is the smallest motif not found'\n",
    "                return got_it\n",
    "                \n",
    "print(get_motif())\n",
    "\n",
    "                \n",
    "end_time = time.time()\n",
    "print(end_time - start_time)"
   ]
  }
 ],
 "metadata": {
  "kernelspec": {
   "display_name": "Python 3 (ipykernel)",
   "language": "python",
   "name": "python3"
  },
  "language_info": {
   "codemirror_mode": {
    "name": "ipython",
    "version": 3
   },
   "file_extension": ".py",
   "mimetype": "text/x-python",
   "name": "python",
   "nbconvert_exporter": "python",
   "pygments_lexer": "ipython3",
   "version": "3.9.2"
  }
 },
 "nbformat": 4,
 "nbformat_minor": 5
}
